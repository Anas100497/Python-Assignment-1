{
 "cells": [
  {
   "cell_type": "code",
   "execution_count": null,
   "metadata": {},
   "outputs": [],
   "source": [
    "#Question 1 \n",
    "#Answer :\n",
    "Object-oriented programming (OOP) refers to a type of computer programming (software design) in which programmers define the data type of a data structure, and also the types of operations (functions) that can be applied to the data structure.\n",
    "\n"
   ]
  },
  {
   "cell_type": "code",
   "execution_count": null,
   "metadata": {},
   "outputs": [],
   "source": [
    "#Question 2\n",
    "#Answer :\n",
    "Multi featured: Oop have multiple features\n",
    "Like : Data Abstraction, Inheritance, constructor, Data Encapsulation, Polymorphism, Dynamic Binding etc.\n",
    "    \n",
    "Simplicity: OOP provides clear modular structure(real world objects) for programs, so the complexity is reduced and the program structure is very clear.\n",
    "    \n",
    "Modularity: In oop each object forms a separate entity whose internal workings are decoupled from other parts of the system;\n",
    "    \n",
    "Modifiability: It is easy to make minor changes in the data representation or the procedures in an OO program. Changes inside a class do not affect any other part of a program, since the only public interface that the external world has to a class is through the use of methods.\n",
    "    \n",
    "Extensibility: Adding new features or responding to changing operating environments can be solved by introducing a few new objects and modifying some existing ones.\n",
    "    \n",
    "Maintainability: Objects can be maintained separately, making locating and fixing problems easier.\n",
    "    \n",
    "Reusability: Objects can be reused in different program. So that the cost of development lowers and also enables faster development"
   ]
  },
  {
   "cell_type": "code",
   "execution_count": null,
   "metadata": {},
   "outputs": [],
   "source": [
    "#Question 3\n",
    "#Answer :\n",
    "FUNCTION:\n",
    "A function is a block of code to carry out a specific task, will contain its own scope and is called by name. All functions may contain zero(no) arguments or more than one arguments. On exit, a function can or can not return one or more values.\n",
    "\n",
    "METHOD:\n",
    "A method in python is somewhat similar to a function, except it is associated with object/classes. Methods in python are very similar to functions except for two major differences.\n",
    "\n",
    "-The method is implicitly used for an object for which it is called.\n",
    "-The method is accessible to data that is contained within the class"
   ]
  },
  {
   "cell_type": "code",
   "execution_count": null,
   "metadata": {},
   "outputs": [],
   "source": [
    "#Question 4\n",
    "#Answer :\n",
    "CLASS: \n",
    "    A class is written by a programmer in a defined structure to create an object in an object oriented programming language. It defines a set of properties and methods that are common to all objects of one type.\n",
    "OBJECT:\n",
    "    An object, is an abstract data type created by a developer. It can include multiple properties and methods and may even contain other objects.\n",
    "ATTRIBUTE:\n",
    "    In general, an attribute is a property or characteristic. Color, for example, is an attribute of your hair. In using or programming computers, an attribute is a changeable property or characteristic of some component of a program that can be set to different values.\n",
    "BEHAVIOUR:\n",
    "    The behavior of an object is defined by its methods, which are the functions and subroutines defined within the object class. Without class methods, a class would simply be a structure."
   ]
  },
  {
   "cell_type": "code",
   "execution_count": 3,
   "metadata": {},
   "outputs": [
    {
     "name": "stdout",
     "output_type": "stream",
     "text": [
      "911 porsche 2013 gun Metallic 2\n",
      "cultus is stopped.\n",
      "Bugatti Veyron is now being driven.\n"
     ]
    }
   ],
   "source": [
    "#Question 5 \n",
    "class Car:\n",
    "    def __init__(self, name, brand, model, color, doors):\n",
    "        self.name = name\n",
    "        self.brand = brand\n",
    "        self.model = model\n",
    "        self.color =  color\n",
    "        self.doors = doors\n",
    "    def printCar(self):\n",
    "        print(self.name,self.brand, self.model, self.color, self.doors)\n",
    "    def drive(self):\n",
    "        print(self.name, \"is now being driven.\")\n",
    "    def stop(self):\n",
    "        print(self.name, \"is stopped.\")\n",
    "car1 = Car(\"cultus\", \"Suzuki\", \"2014\", \"White\", 4)\n",
    "car2 = Car(\"Bugatti Veyron\", \"Bugatti\", \"2017\", \"Blue\", 2)\n",
    "car3 = Car(\"911\", \"porsche\", \"2013\", \"gun Metallic\", 2)\n",
    "car4 = Car(\"Corolla\", \"Prado\", \"2015\", \"Black\", 6)\n",
    "car5 = Car(\"Vitz\", \"Toyota\", \"2019\", \"Gray\", 4)\n",
    "car3.printCar()\n",
    "car1.stop()\n",
    "car2.drive()"
   ]
  },
  {
   "cell_type": "code",
   "execution_count": null,
   "metadata": {},
   "outputs": [],
   "source": []
  },
  {
   "cell_type": "code",
   "execution_count": null,
   "metadata": {},
   "outputs": [],
   "source": []
  }
 ],
 "metadata": {
  "kernelspec": {
   "display_name": "Python 3",
   "language": "python",
   "name": "python3"
  },
  "language_info": {
   "codemirror_mode": {
    "name": "ipython",
    "version": 3
   },
   "file_extension": ".py",
   "mimetype": "text/x-python",
   "name": "python",
   "nbconvert_exporter": "python",
   "pygments_lexer": "ipython3",
   "version": "3.7.4"
  }
 },
 "nbformat": 4,
 "nbformat_minor": 2
}
