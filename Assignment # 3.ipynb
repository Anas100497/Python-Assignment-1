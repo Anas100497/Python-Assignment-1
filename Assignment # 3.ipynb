{
 "cells": [
  {
   "cell_type": "code",
   "execution_count": 1,
   "metadata": {},
   "outputs": [
    {
     "name": "stdout",
     "output_type": "stream",
     "text": [
      "Enter 1st number  6\n",
      "Enter 2nd number  7\n",
      "Enter operator  *\n",
      "42\n"
     ]
    }
   ],
   "source": [
    "#Question 1\n",
    "a = int(input(\"Enter 1st number  \"))\n",
    "b = int( input(\"Enter 2nd number  \"))\n",
    "operator = input(\"Enter operator  \")\n",
    "\n",
    "if operator == \"*\":\n",
    "    print(a*b)\n",
    "    \n",
    "elif operator == '+':\n",
    "    print(a+b)\n",
    "\n",
    "elif operator == '-':\n",
    "    print(a-b)\n",
    "    \n",
    "elif operator == '/':\n",
    "    print(a/b)\n",
    "    \n",
    "elif operator == 'p':\n",
    "    print(a**b)"
   ]
  },
  {
   "cell_type": "code",
   "execution_count": 3,
   "metadata": {},
   "outputs": [
    {
     "name": "stdout",
     "output_type": "stream",
     "text": [
      "Numeric value is found = 15 At Index=0\n",
      "Numeric value is found = 16 At Index=5\n"
     ]
    }
   ],
   "source": [
    "#Question 2\n",
    "arr = [15,\"asf\",\"qwe\",\"power\",\"lol\",16]\n",
    "for aa in arr:\n",
    "    if type(aa) == int or type(aa) == float:\n",
    "        print(f\"Numeric value is found = {aa} At Index={arr.index(aa)}\")"
   ]
  },
  {
   "cell_type": "code",
   "execution_count": 5,
   "metadata": {},
   "outputs": [
    {
     "name": "stdout",
     "output_type": "stream",
     "text": [
      "{'firstName': 'Muhammad', 'lastName': 'Anas Azam'}\n",
      "{'firstName': 'Muhammad', 'lastName': 'Anas Azam', 'mid': 'last'}\n"
     ]
    }
   ],
   "source": [
    "#Question 3\n",
    "dtio = {\"firstName\":\"Muhammad\", \"lastName\":\"Anas Azam\"}\n",
    "print(dtio)\n",
    "\n",
    "dtio.update({\"mid\":\"last\"})\n",
    "print(dtio)"
   ]
  },
  {
   "cell_type": "code",
   "execution_count": 8,
   "metadata": {},
   "outputs": [
    {
     "name": "stdout",
     "output_type": "stream",
     "text": [
      "sum ::  201\n"
     ]
    }
   ],
   "source": [
    "#Question 4\n",
    "\n",
    "def sumdic(dtio):\n",
    "        sum = 0\n",
    "        for i in dtio.values():\n",
    "            sum = sum + i\n",
    "        return sum\n",
    "\n",
    "ndtio = {0:14 , 1:44, 2:143 }\n",
    "\n",
    "print(\"sum :: \",sumdic(ndtio))"
   ]
  },
  {
   "cell_type": "code",
   "execution_count": 12,
   "metadata": {},
   "outputs": [
    {
     "name": "stdout",
     "output_type": "stream",
     "text": [
      "duplicate value is found  abc\n",
      "duplicate value is found  ggg\n",
      "duplicate value is found  1\n",
      "['zzz', 'ggg', 'abc', 'ttt', 1]\n"
     ]
    }
   ],
   "source": [
    "#Question 5\n",
    "lst1 = [\"zzz\",\"ggg\", \"abc\",\"abc\",\"ggg\",\"ttt\",1,1]\n",
    "def dup(lst):\n",
    "    lst1dup = []\n",
    "    for val in lst:\n",
    "        if val not in lst1dup:\n",
    "            lst1dup.append(val)\n",
    "        elif val in lst1dup:\n",
    "            print(\"duplicate value is found \",val)\n",
    "    return lst1dup\n",
    "\n",
    "print(dup(lst1))"
   ]
  },
  {
   "cell_type": "code",
   "execution_count": 17,
   "metadata": {},
   "outputs": [
    {
     "name": "stdout",
     "output_type": "stream",
     "text": [
      "Key is not present in the dictionary\n",
      "Key is present in the dictionary\n"
     ]
    }
   ],
   "source": [
    "#Question 6\n",
    "dic = {\n",
    "    1: 30,\n",
    "    2: 50,\n",
    "    3: 20,\n",
    "    4: 50,\n",
    "    5: 90,\n",
    "    6: 60}\n",
    "def is_key_present(x):\n",
    "    if x in dic:\n",
    "        print('Key is present in the dictionary')\n",
    "    else: \n",
    "        print('Key is not present in the dictionary')\n",
    "            \n",
    "            \n",
    "is_key_present(61)\n",
    "is_key_present(3)"
   ]
  },
  {
   "cell_type": "code",
   "execution_count": null,
   "metadata": {},
   "outputs": [],
   "source": []
  },
  {
   "cell_type": "code",
   "execution_count": null,
   "metadata": {},
   "outputs": [],
   "source": []
  }
 ],
 "metadata": {
  "kernelspec": {
   "display_name": "Python 3",
   "language": "python",
   "name": "python3"
  },
  "language_info": {
   "codemirror_mode": {
    "name": "ipython",
    "version": 3
   },
   "file_extension": ".py",
   "mimetype": "text/x-python",
   "name": "python",
   "nbconvert_exporter": "python",
   "pygments_lexer": "ipython3",
   "version": "3.7.4"
  }
 },
 "nbformat": 4,
 "nbformat_minor": 2
}
